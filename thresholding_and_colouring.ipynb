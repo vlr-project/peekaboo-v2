{
 "cells": [
  {
   "cell_type": "markdown",
   "id": "a1450f00",
   "metadata": {},
   "source": [
    "Thresholding"
   ]
  },
  {
   "cell_type": "code",
   "execution_count": 17,
   "id": "35959a1d",
   "metadata": {},
   "outputs": [],
   "source": [
    "import cv2\n",
    "\n",
    "# Load your image (replace with your image path)\n",
    "image_path = './results/teddy-baseline-mask.png'\n",
    "img = cv2.imread(image_path, 0)  # 0 to read image in grayscale mode\n",
    "\n",
    "# Define your threshold value\n",
    "threshold_value = 120  # You can adjust this value as needed\n",
    "\n",
    "# Apply thresholding\n",
    "ret, thresholded_img = cv2.threshold(img, threshold_value, 255, cv2.THRESH_BINARY)\n",
    "\n",
    "# Save or display the result\n",
    "cv2.imwrite('thresholded_image.jpg', thresholded_img)  # Save\n",
    "cv2.imshow('Thresholded Image', thresholded_img)  # Display\n",
    "cv2.waitKey(0)\n",
    "cv2.destroyAllWindows()\n"
   ]
  },
  {
   "cell_type": "markdown",
   "id": "15d0a220",
   "metadata": {},
   "source": [
    "Edge detection and coloring"
   ]
  },
  {
   "cell_type": "code",
   "execution_count": 8,
   "id": "5147f050",
   "metadata": {},
   "outputs": [],
   "source": [
    "import cv2\n",
    "import numpy as np\n",
    "\n",
    "# Read the image\n",
    "image = cv2.imread('./results/teddy-baseline-mask.png')\n",
    "\n",
    "# Convert to grayscale\n",
    "gray = cv2.cvtColor(image, cv2.COLOR_BGR2GRAY)\n",
    "\n",
    "# Apply edge detection (e.g., using Canny)\n",
    "edges = cv2.Canny(gray, 50, 150)\n",
    "\n",
    "# Define a kernel for morphological operations\n",
    "kernel = np.ones((3,3), np.uint8)\n",
    "\n",
    "# Apply closing (dilation followed by erosion)\n",
    "closing = cv2.morphologyEx(edges, cv2.MORPH_CLOSE, kernel, iterations=2)\n",
    "\n",
    "# Find contours in the closed image\n",
    "contours, hierarchy = cv2.findContours(closing, cv2.RETR_EXTERNAL, cv2.CHAIN_APPROX_SIMPLE)\n",
    "\n",
    "# Create a black canvas of the same size as the original image\n",
    "filled_contours_image = np.zeros_like(image)\n",
    "\n",
    "# Draw and fill contours on the black canvas with white color\n",
    "cv2.drawContours(filled_contours_image, contours, -1, (255, 255, 255), thickness=cv2.FILLED)\n",
    "\n",
    "# Display the images\n",
    "cv2.imshow('Original Image', image)\n",
    "cv2.imshow('Closed Image', closing)\n",
    "cv2.imshow('Filled Contours Image', filled_contours_image)\n",
    "cv2.imwrite('filled_image.jpg', filled_contours_image)\n",
    "\n",
    "cv2.waitKey(0)\n",
    "cv2.destroyAllWindows()\n"
   ]
  },
  {
   "cell_type": "code",
   "execution_count": 10,
   "id": "81b01379",
   "metadata": {},
   "outputs": [
    {
     "data": {
      "text/plain": [
       "array([[ 63,  63,  64, ...,  80,  80,  80],\n",
       "       [ 66,  66,  67, ...,  82,  82,  82],\n",
       "       [ 69,  69,  70, ...,  85,  85,  85],\n",
       "       ...,\n",
       "       [ 84,  83,  82, ..., 122, 123, 123],\n",
       "       [ 85,  84,  83, ..., 125, 126, 126],\n",
       "       [ 85,  84,  83, ..., 126, 127, 128]], dtype=uint8)"
      ]
     },
     "execution_count": 10,
     "metadata": {},
     "output_type": "execute_result"
    }
   ],
   "source": [
    "img[500:600,400:]"
   ]
  },
  {
   "cell_type": "code",
   "execution_count": 3,
   "id": "f8c158df",
   "metadata": {},
   "outputs": [
    {
     "data": {
      "text/plain": [
       "'D:\\\\CMU\\\\fall 23\\\\VLR\\\\team_proj'"
      ]
     },
     "execution_count": 3,
     "metadata": {},
     "output_type": "execute_result"
    }
   ],
   "source": [
    "pwd"
   ]
  }
 ],
 "metadata": {
  "kernelspec": {
   "display_name": "Python 3 (ipykernel)",
   "language": "python",
   "name": "python3"
  },
  "language_info": {
   "codemirror_mode": {
    "name": "ipython",
    "version": 3
   },
   "file_extension": ".py",
   "mimetype": "text/x-python",
   "name": "python",
   "nbconvert_exporter": "python",
   "pygments_lexer": "ipython3",
   "version": "3.10.13"
  }
 },
 "nbformat": 4,
 "nbformat_minor": 5
}
